{
 "cells": [
  {
   "cell_type": "code",
   "execution_count": 12,
   "id": "ed7eb32b-4d1c-4b85-bcb5-aa4834e67471",
   "metadata": {
    "tags": []
   },
   "outputs": [],
   "source": [
    "import os\n",
    "from deep_sort_app import run\n",
    "import time"
   ]
  },
  {
   "cell_type": "code",
   "execution_count": 2,
   "id": "70529ee2-87ca-4b30-bc79-34cfbceb4077",
   "metadata": {
    "tags": []
   },
   "outputs": [],
   "source": [
    "sequence_dir = r'data/MOT16/train/MOT16-09'\n",
    "detection_file = None\n",
    "output_file = '/tmp'\n",
    "min_confidence = 0.8\n",
    "min_detection_height = 0\n",
    "nms_max_overlap = 1.0\n",
    "max_cosine_distance = 0.2\n",
    "nn_budget = None\n",
    "display = True\n",
    "detection_model = 'yolov5n'\n",
    "reid_model = 'osnet_x0_25'\n",
    "segmentation = False"
   ]
  },
  {
   "cell_type": "markdown",
   "id": "ad97e7d5-77c8-47d9-aa65-b10012416b33",
   "metadata": {},
   "source": [
    "# DeepSort improved demo"
   ]
  },
  {
   "cell_type": "markdown",
   "id": "5e1a1622-0272-4959-9491-ff8ac8ce5292",
   "metadata": {},
   "source": [
    "After running this code the videos will be displayed on your screen"
   ]
  },
  {
   "cell_type": "markdown",
   "id": "48f048dd-eb5e-4b7a-81ae-2142a8015784",
   "metadata": {},
   "source": [
    "### 1. MOT16-09"
   ]
  },
  {
   "cell_type": "code",
   "execution_count": null,
   "id": "9f2a6752-2185-454b-ad35-f06d5d5aa7a2",
   "metadata": {
    "tags": []
   },
   "outputs": [],
   "source": [
    "run(\n",
    "    sequence_dir,\n",
    "    detection_file,\n",
    "    output_file,\n",
    "    min_confidence,\n",
    "    nms_max_overlap,\n",
    "    min_detection_height,\n",
    "    max_cosine_distance,\n",
    "    nn_budget,\n",
    "    display,\n",
    "    detection_model,\n",
    "    reid_model,\n",
    "    segmentation\n",
    ")"
   ]
  },
  {
   "cell_type": "markdown",
   "id": "0c7357c6-2e56-476d-ac6f-50e5be8aecfd",
   "metadata": {},
   "source": [
    "### 2. 1. MOT16-11"
   ]
  },
  {
   "cell_type": "code",
   "execution_count": 6,
   "id": "97f9bccf-5579-4de3-a298-8911dd1e29fc",
   "metadata": {
    "tags": []
   },
   "outputs": [],
   "source": [
    "sequence_dir = r'data/MOT16/train/MOT16-11'"
   ]
  },
  {
   "cell_type": "code",
   "execution_count": null,
   "id": "9a02eb42-454c-4d9d-b243-29f54e6c71e7",
   "metadata": {
    "tags": []
   },
   "outputs": [],
   "source": [
    "run(\n",
    "    sequence_dir,\n",
    "    detection_file,\n",
    "    output_file,\n",
    "    min_confidence,\n",
    "    nms_max_overlap,\n",
    "    min_detection_height,\n",
    "    max_cosine_distance,\n",
    "    nn_budget,\n",
    "    display,\n",
    "    detection_model,\n",
    "    reid_model,\n",
    "    segmentation\n",
    ")"
   ]
  },
  {
   "cell_type": "markdown",
   "id": "23a09508-51c3-42ae-ad88-0cf2b496b139",
   "metadata": {},
   "source": [
    "### 3. Segmentation"
   ]
  },
  {
   "cell_type": "markdown",
   "id": "f85b05e5-42b3-4b48-b854-f8189d15661e",
   "metadata": {},
   "source": [
    "Unfortunately, segmentation medel can not process video stream in real time"
   ]
  },
  {
   "cell_type": "code",
   "execution_count": 8,
   "id": "d3d63d6a-f153-458e-8058-d0825f154eee",
   "metadata": {
    "tags": []
   },
   "outputs": [],
   "source": [
    "segmentation = True"
   ]
  },
  {
   "cell_type": "code",
   "execution_count": null,
   "id": "ef5837c0-2cfe-4c0c-a48b-74d69224ddac",
   "metadata": {
    "tags": []
   },
   "outputs": [],
   "source": [
    "run(\n",
    "    sequence_dir,\n",
    "    detection_file,\n",
    "    output_file,\n",
    "    min_confidence,\n",
    "    nms_max_overlap,\n",
    "    min_detection_height,\n",
    "    max_cosine_distance,\n",
    "    nn_budget,\n",
    "    display,\n",
    "    detection_model,\n",
    "    reid_model,\n",
    "    segmentation\n",
    ")"
   ]
  },
  {
   "cell_type": "markdown",
   "id": "aecc0e06-9a02-4ec5-8498-8b301b4532fe",
   "metadata": {},
   "source": [
    "# Performance"
   ]
  },
  {
   "cell_type": "markdown",
   "id": "5cbb2c08-c32a-459f-9b22-538a95e20e30",
   "metadata": {},
   "source": [
    "### 1. Improved"
   ]
  },
  {
   "cell_type": "code",
   "execution_count": 16,
   "id": "931a1bf2-9274-4946-9ed7-2d1f69a1f080",
   "metadata": {
    "tags": []
   },
   "outputs": [],
   "source": [
    "display = False\n",
    "segmentation = False\n",
    "detection_file = None"
   ]
  },
  {
   "cell_type": "code",
   "execution_count": null,
   "id": "a7fc50d0-cf3e-401a-b555-79de9f501ddc",
   "metadata": {
    "tags": []
   },
   "outputs": [],
   "source": [
    "t0 = time.time()\n",
    "run(\n",
    "    sequence_dir,\n",
    "    detection_file,\n",
    "    output_file,\n",
    "    min_confidence,\n",
    "    nms_max_overlap,\n",
    "    min_detection_height,\n",
    "    max_cosine_distance,\n",
    "    nn_budget,\n",
    "    display,\n",
    "    detection_model,\n",
    "    reid_model,\n",
    "    segmentation\n",
    ")\n",
    "dt = time.time() - t0"
   ]
  },
  {
   "cell_type": "code",
   "execution_count": 18,
   "id": "73b31693-d2be-4f86-94bf-79f8e5d77ef0",
   "metadata": {
    "tags": []
   },
   "outputs": [
    {
     "name": "stdout",
     "output_type": "stream",
     "text": [
      "Evaluation time: 27.466236352920532\n"
     ]
    }
   ],
   "source": [
    "print(f'Evaluation time: {dt}')"
   ]
  },
  {
   "cell_type": "markdown",
   "id": "d1fd9c9f-e660-41fe-b580-8268649394ea",
   "metadata": {},
   "source": [
    "### Original"
   ]
  },
  {
   "cell_type": "code",
   "execution_count": 19,
   "id": "c43b0a69-9343-4cac-b82a-3f4dbb3d6e8e",
   "metadata": {
    "tags": []
   },
   "outputs": [],
   "source": [
    "detection_file = 'resources/detections/MOT16_train/MOT16-11.npy'"
   ]
  },
  {
   "cell_type": "code",
   "execution_count": null,
   "id": "609ec6ce-30b1-4ee6-8fa3-4aed88d1e0ef",
   "metadata": {
    "tags": []
   },
   "outputs": [],
   "source": [
    "t0 = time.time()\n",
    "run(\n",
    "    sequence_dir,\n",
    "    detection_file,\n",
    "    output_file,\n",
    "    min_confidence,\n",
    "    nms_max_overlap,\n",
    "    min_detection_height,\n",
    "    max_cosine_distance,\n",
    "    nn_budget,\n",
    "    display,\n",
    "    detection_model,\n",
    "    reid_model,\n",
    "    segmentation\n",
    ")\n",
    "dt = time.time() - t0"
   ]
  },
  {
   "cell_type": "code",
   "execution_count": 21,
   "id": "7d0174b0-5c48-429c-bf40-77c41ceb3dbb",
   "metadata": {
    "tags": []
   },
   "outputs": [
    {
     "name": "stdout",
     "output_type": "stream",
     "text": [
      "Evaluation time: 8.456287384033203\n"
     ]
    }
   ],
   "source": [
    "print(f'Evaluation time: {dt}')"
   ]
  },
  {
   "cell_type": "markdown",
   "id": "dd491e3e-3348-4f73-84e6-5dcdfb2c31c9",
   "metadata": {},
   "source": [
    "Как можно видеть, оригинальный лагоритм работает быстрее, но скорости улучшенного алгоритма всё ещё достаточно, для обработки видео в реальном времени. Также он дает лучшую точность"
   ]
  },
  {
   "cell_type": "code",
   "execution_count": null,
   "id": "94867601-f6a2-42cb-9b27-9d07c6988ef4",
   "metadata": {},
   "outputs": [],
   "source": []
  }
 ],
 "metadata": {
  "kernelspec": {
   "display_name": "Python 3 (ipykernel)",
   "language": "python",
   "name": "python3"
  },
  "language_info": {
   "codemirror_mode": {
    "name": "ipython",
    "version": 3
   },
   "file_extension": ".py",
   "mimetype": "text/x-python",
   "name": "python",
   "nbconvert_exporter": "python",
   "pygments_lexer": "ipython3",
   "version": "3.11.4"
  }
 },
 "nbformat": 4,
 "nbformat_minor": 5
}
