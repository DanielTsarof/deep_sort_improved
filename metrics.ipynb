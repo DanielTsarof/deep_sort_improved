{
 "cells": [
  {
   "cell_type": "code",
   "execution_count": 1,
   "id": "43708fa2-ee78-415c-a939-56521c1c7976",
   "metadata": {
    "tags": []
   },
   "outputs": [],
   "source": [
    "import os\n",
    "import cv2\n",
    "import torch\n",
    "import numpy as np\n",
    "from tqdm import tqdm\n",
    "from sklearn.metrics import f1_score, jaccard_score"
   ]
  },
  {
   "cell_type": "code",
   "execution_count": 2,
   "id": "ae9ccaab-29a0-4b5d-9dc2-f86a92a4d3f5",
   "metadata": {
    "tags": []
   },
   "outputs": [],
   "source": [
    "from nn_models.yolov5_detect import load_yolo_model, detect_objects, xywh_to_ltwh"
   ]
  },
  {
   "cell_type": "markdown",
   "id": "0f2741b8-1ad6-4bba-8bae-8cc60824c3b6",
   "metadata": {},
   "source": [
    "# Тестирование моделей деткции"
   ]
  },
  {
   "cell_type": "code",
   "execution_count": 3,
   "id": "b50eb0d6-ca78-47dc-aa13-d3530bea49e8",
   "metadata": {
    "tags": []
   },
   "outputs": [],
   "source": [
    "DATA = 'data/evaluation_data/train'"
   ]
  },
  {
   "cell_type": "code",
   "execution_count": 4,
   "id": "d176e5b7-200b-408d-aa49-cc3b6493a785",
   "metadata": {
    "tags": []
   },
   "outputs": [],
   "source": [
    "IMAGE_DIRS = [os.path.join(DATA, item, 'img1') for item in os.listdir(DATA)]"
   ]
  },
  {
   "cell_type": "code",
   "execution_count": 5,
   "id": "f452a37d-abdf-4b83-ab81-9cb830822687",
   "metadata": {
    "tags": []
   },
   "outputs": [],
   "source": [
    "GT_DATA = [os.path.join(item.replace('/img1', ''), 'gt/gt.txt') for item in IMAGE_DIRS]"
   ]
  },
  {
   "cell_type": "code",
   "execution_count": 6,
   "id": "2cbc4cc2-b7f0-42a0-8999-fdcc01742bc8",
   "metadata": {
    "tags": []
   },
   "outputs": [
    {
     "data": {
      "text/plain": [
       "['data/evaluation_data/train/MOT16-11/gt/gt.txt',\n",
       " 'data/evaluation_data/train/TUD-Stadtmitte/gt/gt.txt',\n",
       " 'data/evaluation_data/train/TUD-Campus/gt/gt.txt',\n",
       " 'data/evaluation_data/train/MOT16-09/gt/gt.txt',\n",
       " 'data/evaluation_data/train/KITTI-17/gt/gt.txt',\n",
       " 'data/evaluation_data/train/PETS09-S2L1/gt/gt.txt']"
      ]
     },
     "execution_count": 6,
     "metadata": {},
     "output_type": "execute_result"
    }
   ],
   "source": [
    "GT_DATA"
   ]
  },
  {
   "cell_type": "code",
   "execution_count": 75,
   "id": "04aa0da2-ef3a-49b0-b6b6-80d7d1cdc3e4",
   "metadata": {
    "tags": []
   },
   "outputs": [],
   "source": [
    "def load_ground_truth(gt_file):\n",
    "    \"\"\"\n",
    "    Load ground truth bounding boxes from the specified file.\n",
    "\n",
    "    Args:\n",
    "    gt_file (str): Path to the ground truth file.\n",
    "\n",
    "    Returns:\n",
    "    ground_truth (dict): Dictionary of ground truth bounding boxes per frame.\n",
    "    \"\"\"\n",
    "    ground_truth = {}\n",
    "    with open(gt_file, 'r') as f:\n",
    "        for line in f:\n",
    "            try:\n",
    "                frame_id, _, x, y, w, h, _, _, _ = map(float, line.strip().split(','))\n",
    "            except ValueError:\n",
    "                frame_id, _, x, y, w, h, _, _, _, _ = map(float, line.strip().split(','))\n",
    "            frame_id = int(frame_id)\n",
    "            if frame_id not in ground_truth:\n",
    "                ground_truth[frame_id] = []\n",
    "            ground_truth[frame_id].append([x, y, w, h])\n",
    "    return ground_truth\n",
    "\n",
    "def calculate_iou(boxA, boxB):\n",
    "    \"\"\"\n",
    "    Calculate the Intersection over Union (IoU) of two bounding boxes.\n",
    "\n",
    "    Args:\n",
    "    boxA (list): Bounding box A in format [x1, y1, w, h].\n",
    "    boxB (list): Bounding box B in format [x1, y1, w, h].\n",
    "\n",
    "    Returns:\n",
    "    iou (float): Intersection over Union.\n",
    "    \"\"\"\n",
    "    xA = max(boxA[0], boxB[0])\n",
    "    yA = max(boxA[1], boxB[1])\n",
    "    xB = min(boxA[0] + boxA[2], boxB[0] + boxB[2])\n",
    "    yB = min(boxA[1] + boxA[3], boxB[1] + boxB[3])\n",
    "    interArea = max(0, xB - xA) * max(0, yB - yA)\n",
    "    boxAArea = boxA[2] * boxA[3]\n",
    "    boxBArea = boxB[2] * boxB[3]\n",
    "    iou = interArea / float(boxAArea + boxBArea - interArea)\n",
    "    return iou\n",
    "\n",
    "def evaluate_detection_model(image_dir, gt_file, model_weights):\n",
    "    \"\"\"\n",
    "    Evaluate the detection model on the dataset.\n",
    "\n",
    "    Args:\n",
    "    image_dir (str): Path to the directory with images.\n",
    "    gt_file (str): Path to the ground truth file.\n",
    "    model_weights (str): Path to the YOLOv5 weights file.\n",
    "\n",
    "    Returns:\n",
    "    None\n",
    "    \"\"\"\n",
    "    model = load_yolo_model(model_weights)\n",
    "    ground_truth = load_ground_truth(gt_file)\n",
    "\n",
    "    all_gt_boxes = []\n",
    "    all_pred_boxes = []\n",
    "    frame_ious = []\n",
    "\n",
    "    for frame_id, gt_boxes in tqdm(ground_truth.items()):\n",
    "        image_path = os.path.join(image_dir, f'{frame_id:06d}.jpg')\n",
    "        #print(image_path)\n",
    "        if not os.path.exists(image_path):\n",
    "            continue\n",
    "\n",
    "        image = cv2.imread(image_path)\n",
    "        results = detect_objects(model, image)\n",
    "\n",
    "        pred_boxes = []\n",
    "        for *xywh, conf, cls in results.xywh[0].cpu().numpy():\n",
    "            if int(cls) == 0:  # Filter for 'person' class\n",
    "                ltwh = xywh_to_ltwh(xywh)\n",
    "                pred_boxes.append(ltwh)\n",
    "\n",
    "        # Flatten lists for sklearn metrics\n",
    "        for gt_box in gt_boxes:\n",
    "            all_gt_boxes.append(gt_box)\n",
    "        for pred_box in pred_boxes:\n",
    "            all_pred_boxes.append(pred_box)\n",
    "\n",
    "        ious = []\n",
    "        for gt_box in gt_boxes:\n",
    "            for pred_box in pred_boxes:\n",
    "                ious.append(calculate_iou(gt_box, pred_box))\n",
    "\n",
    "        # Calculate IoU and F1 for this frame\n",
    "        if ious:\n",
    "            iou = max(ious)\n",
    "        else:\n",
    "            iou = 0\n",
    "        frame_ious.append(iou)\n",
    "        #print(f'Frame {frame_id}: IoU = {iou:.4f}')\n",
    "    avg_iou = np.mean(frame_ious)\n",
    "    print(f'Overall IoU: {avg_iou}')\n",
    "    return avg_iou"
   ]
  },
  {
   "cell_type": "code",
   "execution_count": 76,
   "id": "d1f34826-7e43-412c-9595-448cb37a90dd",
   "metadata": {
    "tags": []
   },
   "outputs": [],
   "source": [
    "model_weights = 'nn_models/weights/yolo/yolov5n.pt'"
   ]
  },
  {
   "cell_type": "code",
   "execution_count": 77,
   "id": "80d0eeab-9f81-4bac-ae2d-546c33c9c14f",
   "metadata": {
    "tags": []
   },
   "outputs": [],
   "source": [
    "WEIGHTS = [os.path.join('nn_models/weights/yolo', item) for item in os.listdir('nn_models/weights/yolo') if item.endswith('pt')]"
   ]
  },
  {
   "cell_type": "code",
   "execution_count": 78,
   "id": "49622d82-98b5-48a5-a04b-677c3e39ff9e",
   "metadata": {
    "tags": []
   },
   "outputs": [
    {
     "data": {
      "text/plain": [
       "['nn_models/weights/yolo/yolov5m.pt',\n",
       " 'nn_models/weights/yolo/yolov5n.pt',\n",
       " 'nn_models/weights/yolo/yolov5l.pt',\n",
       " 'nn_models/weights/yolo/yolov5s.pt']"
      ]
     },
     "execution_count": 78,
     "metadata": {},
     "output_type": "execute_result"
    }
   ],
   "source": [
    "WEIGHTS"
   ]
  },
  {
   "cell_type": "code",
   "execution_count": 79,
   "id": "c73282c8-d819-47d1-b4ad-b1d1bc12265c",
   "metadata": {},
   "outputs": [
    {
     "name": "stdout",
     "output_type": "stream",
     "text": [
      "evaluating model: nn_models/weights/yolo/yolov5m.pt\n",
      "processing data/evaluation_data/train/MOT16-11/img1 ...\n"
     ]
    },
    {
     "name": "stderr",
     "output_type": "stream",
     "text": [
      "Using cache found in /home/dtsarev/.cache/torch/hub/ultralytics_yolov5_master\n",
      "YOLOv5 🚀 2024-7-13 Python-3.11.4 torch-2.3.1+cu121 CUDA:0 (NVIDIA GeForce RTX 4070, 11987MiB)\n",
      "\n",
      "Fusing layers... \n",
      "YOLOv5m summary: 290 layers, 21172173 parameters, 0 gradients, 48.9 GFLOPs\n",
      "Adding AutoShape... \n",
      "100%|████████████████████████████████████████████████████████████████████████████████████████████████████████████████████████████████████████████████████████████████████████| 900/900 [00:12<00:00, 73.21it/s]\n"
     ]
    },
    {
     "name": "stdout",
     "output_type": "stream",
     "text": [
      "Overall IoU: 0.943699322955675\n",
      "processing data/evaluation_data/train/TUD-Stadtmitte/img1 ...\n"
     ]
    },
    {
     "name": "stderr",
     "output_type": "stream",
     "text": [
      "Using cache found in /home/dtsarev/.cache/torch/hub/ultralytics_yolov5_master\n",
      "YOLOv5 🚀 2024-7-13 Python-3.11.4 torch-2.3.1+cu121 CUDA:0 (NVIDIA GeForce RTX 4070, 11987MiB)\n",
      "\n",
      "Fusing layers... \n",
      "YOLOv5m summary: 290 layers, 21172173 parameters, 0 gradients, 48.9 GFLOPs\n",
      "Adding AutoShape... \n",
      "100%|███████████████████████████████████████████████████████████████████████████████████████████████████████████████████████████████████████████████████████████████████████| 179/179 [00:01<00:00, 155.82it/s]\n"
     ]
    },
    {
     "name": "stdout",
     "output_type": "stream",
     "text": [
      "Overall IoU: 0.8849566087252204\n",
      "processing data/evaluation_data/train/TUD-Campus/img1 ...\n"
     ]
    },
    {
     "name": "stderr",
     "output_type": "stream",
     "text": [
      "Using cache found in /home/dtsarev/.cache/torch/hub/ultralytics_yolov5_master\n",
      "YOLOv5 🚀 2024-7-13 Python-3.11.4 torch-2.3.1+cu121 CUDA:0 (NVIDIA GeForce RTX 4070, 11987MiB)\n",
      "\n",
      "Fusing layers... \n",
      "YOLOv5m summary: 290 layers, 21172173 parameters, 0 gradients, 48.9 GFLOPs\n",
      "Adding AutoShape... \n",
      "100%|█████████████████████████████████████████████████████████████████████████████████████████████████████████████████████████████████████████████████████████████████████████| 71/71 [00:00<00:00, 152.96it/s]\n"
     ]
    },
    {
     "name": "stdout",
     "output_type": "stream",
     "text": [
      "Overall IoU: 0.8618209946519965\n",
      "processing data/evaluation_data/train/MOT16-09/img1 ...\n"
     ]
    },
    {
     "name": "stderr",
     "output_type": "stream",
     "text": [
      "Using cache found in /home/dtsarev/.cache/torch/hub/ultralytics_yolov5_master\n",
      "YOLOv5 🚀 2024-7-13 Python-3.11.4 torch-2.3.1+cu121 CUDA:0 (NVIDIA GeForce RTX 4070, 11987MiB)\n",
      "\n",
      "Fusing layers... \n",
      "YOLOv5m summary: 290 layers, 21172173 parameters, 0 gradients, 48.9 GFLOPs\n",
      "Adding AutoShape... \n",
      "100%|████████████████████████████████████████████████████████████████████████████████████████████████████████████████████████████████████████████████████████████████████████| 525/525 [00:07<00:00, 69.81it/s]\n"
     ]
    },
    {
     "name": "stdout",
     "output_type": "stream",
     "text": [
      "Overall IoU: 0.92663944926786\n",
      "processing data/evaluation_data/train/KITTI-17/img1 ...\n"
     ]
    },
    {
     "name": "stderr",
     "output_type": "stream",
     "text": [
      "Using cache found in /home/dtsarev/.cache/torch/hub/ultralytics_yolov5_master\n",
      "YOLOv5 🚀 2024-7-13 Python-3.11.4 torch-2.3.1+cu121 CUDA:0 (NVIDIA GeForce RTX 4070, 11987MiB)\n",
      "\n",
      "Fusing layers... \n",
      "YOLOv5m summary: 290 layers, 21172173 parameters, 0 gradients, 48.9 GFLOPs\n",
      "Adding AutoShape... \n",
      "100%|███████████████████████████████████████████████████████████████████████████████████████████████████████████████████████████████████████████████████████████████████████| 145/145 [00:00<00:00, 167.67it/s]\n"
     ]
    },
    {
     "name": "stdout",
     "output_type": "stream",
     "text": [
      "Overall IoU: 0.8610498650228194\n",
      "processing data/evaluation_data/train/PETS09-S2L1/img1 ...\n"
     ]
    },
    {
     "name": "stderr",
     "output_type": "stream",
     "text": [
      "Using cache found in /home/dtsarev/.cache/torch/hub/ultralytics_yolov5_master\n",
      "YOLOv5 🚀 2024-7-13 Python-3.11.4 torch-2.3.1+cu121 CUDA:0 (NVIDIA GeForce RTX 4070, 11987MiB)\n",
      "\n",
      "Fusing layers... \n",
      "YOLOv5m summary: 290 layers, 21172173 parameters, 0 gradients, 48.9 GFLOPs\n",
      "Adding AutoShape... \n",
      "100%|███████████████████████████████████████████████████████████████████████████████████████████████████████████████████████████████████████████████████████████████████████| 795/795 [00:06<00:00, 127.27it/s]\n"
     ]
    },
    {
     "name": "stdout",
     "output_type": "stream",
     "text": [
      "Overall IoU: 0.8672561744605133\n",
      "avg IoU between all videos for nn_models/weights/yolo/yolov5m.pt: 0.8909037358473474\n",
      "evaluating model: nn_models/weights/yolo/yolov5n.pt\n",
      "processing data/evaluation_data/train/MOT16-11/img1 ...\n"
     ]
    },
    {
     "name": "stderr",
     "output_type": "stream",
     "text": [
      "Using cache found in /home/dtsarev/.cache/torch/hub/ultralytics_yolov5_master\n",
      "YOLOv5 🚀 2024-7-13 Python-3.11.4 torch-2.3.1+cu121 CUDA:0 (NVIDIA GeForce RTX 4070, 11987MiB)\n",
      "\n",
      "Fusing layers... \n",
      "YOLOv5n summary: 213 layers, 1867405 parameters, 0 gradients, 4.5 GFLOPs\n",
      "Adding AutoShape... \n",
      "100%|████████████████████████████████████████████████████████████████████████████████████████████████████████████████████████████████████████████████████████████████████████| 900/900 [00:10<00:00, 82.86it/s]\n"
     ]
    },
    {
     "name": "stdout",
     "output_type": "stream",
     "text": [
      "Overall IoU: 0.9173454885977648\n",
      "processing data/evaluation_data/train/TUD-Stadtmitte/img1 ...\n"
     ]
    },
    {
     "name": "stderr",
     "output_type": "stream",
     "text": [
      "Using cache found in /home/dtsarev/.cache/torch/hub/ultralytics_yolov5_master\n",
      "YOLOv5 🚀 2024-7-13 Python-3.11.4 torch-2.3.1+cu121 CUDA:0 (NVIDIA GeForce RTX 4070, 11987MiB)\n",
      "\n",
      "Fusing layers... \n",
      "YOLOv5n summary: 213 layers, 1867405 parameters, 0 gradients, 4.5 GFLOPs\n",
      "Adding AutoShape... \n",
      "100%|███████████████████████████████████████████████████████████████████████████████████████████████████████████████████████████████████████████████████████████████████████| 179/179 [00:00<00:00, 217.86it/s]\n"
     ]
    },
    {
     "name": "stdout",
     "output_type": "stream",
     "text": [
      "Overall IoU: 0.8804373281103332\n",
      "processing data/evaluation_data/train/TUD-Campus/img1 ...\n"
     ]
    },
    {
     "name": "stderr",
     "output_type": "stream",
     "text": [
      "Using cache found in /home/dtsarev/.cache/torch/hub/ultralytics_yolov5_master\n",
      "YOLOv5 🚀 2024-7-13 Python-3.11.4 torch-2.3.1+cu121 CUDA:0 (NVIDIA GeForce RTX 4070, 11987MiB)\n",
      "\n",
      "Fusing layers... \n",
      "YOLOv5n summary: 213 layers, 1867405 parameters, 0 gradients, 4.5 GFLOPs\n",
      "Adding AutoShape... \n",
      "100%|█████████████████████████████████████████████████████████████████████████████████████████████████████████████████████████████████████████████████████████████████████████| 71/71 [00:00<00:00, 218.77it/s]\n"
     ]
    },
    {
     "name": "stdout",
     "output_type": "stream",
     "text": [
      "Overall IoU: 0.8611969492369296\n",
      "processing data/evaluation_data/train/MOT16-09/img1 ...\n"
     ]
    },
    {
     "name": "stderr",
     "output_type": "stream",
     "text": [
      "Using cache found in /home/dtsarev/.cache/torch/hub/ultralytics_yolov5_master\n",
      "YOLOv5 🚀 2024-7-13 Python-3.11.4 torch-2.3.1+cu121 CUDA:0 (NVIDIA GeForce RTX 4070, 11987MiB)\n",
      "\n",
      "Fusing layers... \n",
      "YOLOv5n summary: 213 layers, 1867405 parameters, 0 gradients, 4.5 GFLOPs\n",
      "Adding AutoShape... \n",
      "100%|████████████████████████████████████████████████████████████████████████████████████████████████████████████████████████████████████████████████████████████████████████| 525/525 [00:06<00:00, 77.77it/s]\n"
     ]
    },
    {
     "name": "stdout",
     "output_type": "stream",
     "text": [
      "Overall IoU: 0.9045939720731991\n",
      "processing data/evaluation_data/train/KITTI-17/img1 ...\n"
     ]
    },
    {
     "name": "stderr",
     "output_type": "stream",
     "text": [
      "Using cache found in /home/dtsarev/.cache/torch/hub/ultralytics_yolov5_master\n",
      "YOLOv5 🚀 2024-7-13 Python-3.11.4 torch-2.3.1+cu121 CUDA:0 (NVIDIA GeForce RTX 4070, 11987MiB)\n",
      "\n",
      "Fusing layers... \n",
      "YOLOv5n summary: 213 layers, 1867405 parameters, 0 gradients, 4.5 GFLOPs\n",
      "Adding AutoShape... \n",
      "100%|███████████████████████████████████████████████████████████████████████████████████████████████████████████████████████████████████████████████████████████████████████| 145/145 [00:00<00:00, 186.80it/s]\n"
     ]
    },
    {
     "name": "stdout",
     "output_type": "stream",
     "text": [
      "Overall IoU: 0.8452117460105847\n",
      "processing data/evaluation_data/train/PETS09-S2L1/img1 ...\n"
     ]
    },
    {
     "name": "stderr",
     "output_type": "stream",
     "text": [
      "Using cache found in /home/dtsarev/.cache/torch/hub/ultralytics_yolov5_master\n",
      "YOLOv5 🚀 2024-7-13 Python-3.11.4 torch-2.3.1+cu121 CUDA:0 (NVIDIA GeForce RTX 4070, 11987MiB)\n",
      "\n",
      "Fusing layers... \n",
      "YOLOv5n summary: 213 layers, 1867405 parameters, 0 gradients, 4.5 GFLOPs\n",
      "Adding AutoShape... \n",
      "100%|███████████████████████████████████████████████████████████████████████████████████████████████████████████████████████████████████████████████████████████████████████| 795/795 [00:04<00:00, 168.02it/s]\n"
     ]
    },
    {
     "name": "stdout",
     "output_type": "stream",
     "text": [
      "Overall IoU: 0.8643424246545939\n",
      "avg IoU between all videos for nn_models/weights/yolo/yolov5n.pt: 0.8788546514472341\n",
      "evaluating model: nn_models/weights/yolo/yolov5l.pt\n",
      "processing data/evaluation_data/train/MOT16-11/img1 ...\n"
     ]
    },
    {
     "name": "stderr",
     "output_type": "stream",
     "text": [
      "Using cache found in /home/dtsarev/.cache/torch/hub/ultralytics_yolov5_master\n",
      "YOLOv5 🚀 2024-7-13 Python-3.11.4 torch-2.3.1+cu121 CUDA:0 (NVIDIA GeForce RTX 4070, 11987MiB)\n",
      "\n",
      "Fusing layers... \n",
      "YOLOv5l summary: 367 layers, 46533693 parameters, 0 gradients, 109.0 GFLOPs\n",
      "Adding AutoShape... \n",
      "100%|████████████████████████████████████████████████████████████████████████████████████████████████████████████████████████████████████████████████████████████████████████| 900/900 [00:14<00:00, 62.56it/s]\n"
     ]
    },
    {
     "name": "stdout",
     "output_type": "stream",
     "text": [
      "Overall IoU: 0.9476564140351614\n",
      "processing data/evaluation_data/train/TUD-Stadtmitte/img1 ...\n"
     ]
    },
    {
     "name": "stderr",
     "output_type": "stream",
     "text": [
      "Using cache found in /home/dtsarev/.cache/torch/hub/ultralytics_yolov5_master\n",
      "YOLOv5 🚀 2024-7-13 Python-3.11.4 torch-2.3.1+cu121 CUDA:0 (NVIDIA GeForce RTX 4070, 11987MiB)\n",
      "\n",
      "Fusing layers... \n",
      "YOLOv5l summary: 367 layers, 46533693 parameters, 0 gradients, 109.0 GFLOPs\n",
      "Adding AutoShape... \n",
      "100%|███████████████████████████████████████████████████████████████████████████████████████████████████████████████████████████████████████████████████████████████████████| 179/179 [00:01<00:00, 116.29it/s]\n"
     ]
    },
    {
     "name": "stdout",
     "output_type": "stream",
     "text": [
      "Overall IoU: 0.8847345338987996\n",
      "processing data/evaluation_data/train/TUD-Campus/img1 ...\n"
     ]
    },
    {
     "name": "stderr",
     "output_type": "stream",
     "text": [
      "Using cache found in /home/dtsarev/.cache/torch/hub/ultralytics_yolov5_master\n",
      "YOLOv5 🚀 2024-7-13 Python-3.11.4 torch-2.3.1+cu121 CUDA:0 (NVIDIA GeForce RTX 4070, 11987MiB)\n",
      "\n",
      "Fusing layers... \n",
      "YOLOv5l summary: 367 layers, 46533693 parameters, 0 gradients, 109.0 GFLOPs\n",
      "Adding AutoShape... \n",
      "100%|█████████████████████████████████████████████████████████████████████████████████████████████████████████████████████████████████████████████████████████████████████████| 71/71 [00:00<00:00, 115.85it/s]\n"
     ]
    },
    {
     "name": "stdout",
     "output_type": "stream",
     "text": [
      "Overall IoU: 0.8528447259392056\n",
      "processing data/evaluation_data/train/MOT16-09/img1 ...\n"
     ]
    },
    {
     "name": "stderr",
     "output_type": "stream",
     "text": [
      "Using cache found in /home/dtsarev/.cache/torch/hub/ultralytics_yolov5_master\n",
      "YOLOv5 🚀 2024-7-13 Python-3.11.4 torch-2.3.1+cu121 CUDA:0 (NVIDIA GeForce RTX 4070, 11987MiB)\n",
      "\n",
      "Fusing layers... \n",
      "YOLOv5l summary: 367 layers, 46533693 parameters, 0 gradients, 109.0 GFLOPs\n",
      "Adding AutoShape... \n",
      "100%|████████████████████████████████████████████████████████████████████████████████████████████████████████████████████████████████████████████████████████████████████████| 525/525 [00:08<00:00, 59.85it/s]\n"
     ]
    },
    {
     "name": "stdout",
     "output_type": "stream",
     "text": [
      "Overall IoU: 0.9255412031278997\n",
      "processing data/evaluation_data/train/KITTI-17/img1 ...\n"
     ]
    },
    {
     "name": "stderr",
     "output_type": "stream",
     "text": [
      "Using cache found in /home/dtsarev/.cache/torch/hub/ultralytics_yolov5_master\n",
      "YOLOv5 🚀 2024-7-13 Python-3.11.4 torch-2.3.1+cu121 CUDA:0 (NVIDIA GeForce RTX 4070, 11987MiB)\n",
      "\n",
      "Fusing layers... \n",
      "YOLOv5l summary: 367 layers, 46533693 parameters, 0 gradients, 109.0 GFLOPs\n",
      "Adding AutoShape... \n",
      "100%|███████████████████████████████████████████████████████████████████████████████████████████████████████████████████████████████████████████████████████████████████████| 145/145 [00:01<00:00, 129.07it/s]\n"
     ]
    },
    {
     "name": "stdout",
     "output_type": "stream",
     "text": [
      "Overall IoU: 0.8638043819994449\n",
      "processing data/evaluation_data/train/PETS09-S2L1/img1 ...\n"
     ]
    },
    {
     "name": "stderr",
     "output_type": "stream",
     "text": [
      "Using cache found in /home/dtsarev/.cache/torch/hub/ultralytics_yolov5_master\n",
      "YOLOv5 🚀 2024-7-13 Python-3.11.4 torch-2.3.1+cu121 CUDA:0 (NVIDIA GeForce RTX 4070, 11987MiB)\n",
      "\n",
      "Fusing layers... \n",
      "YOLOv5l summary: 367 layers, 46533693 parameters, 0 gradients, 109.0 GFLOPs\n",
      "Adding AutoShape... \n",
      "100%|████████████████████████████████████████████████████████████████████████████████████████████████████████████████████████████████████████████████████████████████████████| 795/795 [00:08<00:00, 98.39it/s]\n"
     ]
    },
    {
     "name": "stdout",
     "output_type": "stream",
     "text": [
      "Overall IoU: 0.8671314615253581\n",
      "avg IoU between all videos for nn_models/weights/yolo/yolov5l.pt: 0.8902854534209782\n",
      "evaluating model: nn_models/weights/yolo/yolov5s.pt\n",
      "processing data/evaluation_data/train/MOT16-11/img1 ...\n"
     ]
    },
    {
     "name": "stderr",
     "output_type": "stream",
     "text": [
      "Using cache found in /home/dtsarev/.cache/torch/hub/ultralytics_yolov5_master\n",
      "YOLOv5 🚀 2024-7-13 Python-3.11.4 torch-2.3.1+cu121 CUDA:0 (NVIDIA GeForce RTX 4070, 11987MiB)\n",
      "\n",
      "Fusing layers... \n",
      "YOLOv5s summary: 213 layers, 7225885 parameters, 0 gradients, 16.4 GFLOPs\n",
      "Adding AutoShape... \n",
      "100%|████████████████████████████████████████████████████████████████████████████████████████████████████████████████████████████████████████████████████████████████████████| 900/900 [00:10<00:00, 82.57it/s]\n"
     ]
    },
    {
     "name": "stdout",
     "output_type": "stream",
     "text": [
      "Overall IoU: 0.9337003183239521\n",
      "processing data/evaluation_data/train/TUD-Stadtmitte/img1 ...\n"
     ]
    },
    {
     "name": "stderr",
     "output_type": "stream",
     "text": [
      "Using cache found in /home/dtsarev/.cache/torch/hub/ultralytics_yolov5_master\n",
      "YOLOv5 🚀 2024-7-13 Python-3.11.4 torch-2.3.1+cu121 CUDA:0 (NVIDIA GeForce RTX 4070, 11987MiB)\n",
      "\n",
      "Fusing layers... \n",
      "YOLOv5s summary: 213 layers, 7225885 parameters, 0 gradients, 16.4 GFLOPs\n",
      "Adding AutoShape... \n",
      "100%|███████████████████████████████████████████████████████████████████████████████████████████████████████████████████████████████████████████████████████████████████████| 179/179 [00:00<00:00, 219.02it/s]\n"
     ]
    },
    {
     "name": "stdout",
     "output_type": "stream",
     "text": [
      "Overall IoU: 0.8753924215501075\n",
      "processing data/evaluation_data/train/TUD-Campus/img1 ...\n"
     ]
    },
    {
     "name": "stderr",
     "output_type": "stream",
     "text": [
      "Using cache found in /home/dtsarev/.cache/torch/hub/ultralytics_yolov5_master\n",
      "YOLOv5 🚀 2024-7-13 Python-3.11.4 torch-2.3.1+cu121 CUDA:0 (NVIDIA GeForce RTX 4070, 11987MiB)\n",
      "\n",
      "Fusing layers... \n",
      "YOLOv5s summary: 213 layers, 7225885 parameters, 0 gradients, 16.4 GFLOPs\n",
      "Adding AutoShape... \n",
      "100%|█████████████████████████████████████████████████████████████████████████████████████████████████████████████████████████████████████████████████████████████████████████| 71/71 [00:00<00:00, 208.90it/s]\n"
     ]
    },
    {
     "name": "stdout",
     "output_type": "stream",
     "text": [
      "Overall IoU: 0.8498643048691775\n",
      "processing data/evaluation_data/train/MOT16-09/img1 ...\n"
     ]
    },
    {
     "name": "stderr",
     "output_type": "stream",
     "text": [
      "Using cache found in /home/dtsarev/.cache/torch/hub/ultralytics_yolov5_master\n",
      "YOLOv5 🚀 2024-7-13 Python-3.11.4 torch-2.3.1+cu121 CUDA:0 (NVIDIA GeForce RTX 4070, 11987MiB)\n",
      "\n",
      "Fusing layers... \n",
      "YOLOv5s summary: 213 layers, 7225885 parameters, 0 gradients, 16.4 GFLOPs\n",
      "Adding AutoShape... \n",
      "100%|████████████████████████████████████████████████████████████████████████████████████████████████████████████████████████████████████████████████████████████████████████| 525/525 [00:06<00:00, 76.33it/s]\n"
     ]
    },
    {
     "name": "stdout",
     "output_type": "stream",
     "text": [
      "Overall IoU: 0.9146625331328243\n",
      "processing data/evaluation_data/train/KITTI-17/img1 ...\n"
     ]
    },
    {
     "name": "stderr",
     "output_type": "stream",
     "text": [
      "Using cache found in /home/dtsarev/.cache/torch/hub/ultralytics_yolov5_master\n",
      "YOLOv5 🚀 2024-7-13 Python-3.11.4 torch-2.3.1+cu121 CUDA:0 (NVIDIA GeForce RTX 4070, 11987MiB)\n",
      "\n",
      "Fusing layers... \n",
      "YOLOv5s summary: 213 layers, 7225885 parameters, 0 gradients, 16.4 GFLOPs\n",
      "Adding AutoShape... \n",
      "100%|███████████████████████████████████████████████████████████████████████████████████████████████████████████████████████████████████████████████████████████████████████| 145/145 [00:00<00:00, 182.95it/s]\n"
     ]
    },
    {
     "name": "stdout",
     "output_type": "stream",
     "text": [
      "Overall IoU: 0.8518640503069613\n",
      "processing data/evaluation_data/train/PETS09-S2L1/img1 ...\n"
     ]
    },
    {
     "name": "stderr",
     "output_type": "stream",
     "text": [
      "Using cache found in /home/dtsarev/.cache/torch/hub/ultralytics_yolov5_master\n",
      "YOLOv5 🚀 2024-7-13 Python-3.11.4 torch-2.3.1+cu121 CUDA:0 (NVIDIA GeForce RTX 4070, 11987MiB)\n",
      "\n",
      "Fusing layers... \n",
      "YOLOv5s summary: 213 layers, 7225885 parameters, 0 gradients, 16.4 GFLOPs\n",
      "Adding AutoShape... \n",
      "100%|███████████████████████████████████████████████████████████████████████████████████████████████████████████████████████████████████████████████████████████████████████| 795/795 [00:04<00:00, 166.31it/s]"
     ]
    },
    {
     "name": "stdout",
     "output_type": "stream",
     "text": [
      "Overall IoU: 0.8635482452739085\n",
      "avg IoU between all videos for nn_models/weights/yolo/yolov5s.pt: 0.8815053122428219\n"
     ]
    },
    {
     "name": "stderr",
     "output_type": "stream",
     "text": [
      "\n"
     ]
    }
   ],
   "source": [
    "for model in WEIGHTS:\n",
    "    print(f'evaluating model: {model}')\n",
    "    model_ious = []\n",
    "    for data, gt in zip(IMAGE_DIRS, GT_DATA):\n",
    "        print(f'processing {data} ...')\n",
    "        iou = evaluate_detection_model(data, gt, model)\n",
    "        model_ious.append(iou)\n",
    "    print(f'avg IoU between all videos for {model}: {np.mean(model_ious)}')"
   ]
  },
  {
   "cell_type": "raw",
   "id": "72ec9a28-8a26-4e1d-ac59-cdbf5ba54452",
   "metadata": {},
   "source": [
    "Как можно видеть, отличие в IoU для разных моделей yolo на тестовых видео составляет десятые доли, что не критично для наших задачь. Поэтому используем самую быструю модель yolov5n. "
   ]
  },
  {
   "cell_type": "markdown",
   "id": "1900723b-56e6-43dd-9168-982bf6f31b16",
   "metadata": {},
   "source": [
    "# Тестирование REID модели"
   ]
  },
  {
   "cell_type": "code",
   "execution_count": 7,
   "id": "be5b7f72-85c0-437b-b30b-c394c1311259",
   "metadata": {
    "tags": []
   },
   "outputs": [
    {
     "name": "stderr",
     "output_type": "stream",
     "text": [
      "2024-07-14 18:29:02.158514: I tensorflow/core/util/port.cc:113] oneDNN custom operations are on. You may see slightly different numerical results due to floating-point round-off errors from different computation orders. To turn them off, set the environment variable `TF_ENABLE_ONEDNN_OPTS=0`.\n",
      "2024-07-14 18:29:02.185032: I tensorflow/core/platform/cpu_feature_guard.cc:210] This TensorFlow binary is optimized to use available CPU instructions in performance-critical operations.\n",
      "To enable the following instructions: AVX2 AVX512F AVX512_VNNI AVX512_BF16 FMA, in other operations, rebuild TensorFlow with the appropriate compiler flags.\n",
      "2024-07-14 18:29:02.732674: W tensorflow/compiler/tf2tensorrt/utils/py_utils.cc:38] TF-TRT Warning: Could not find TensorRT\n"
     ]
    }
   ],
   "source": [
    "import os\n",
    "import cv2\n",
    "import torch\n",
    "import numpy as np\n",
    "import random\n",
    "from PIL import Image\n",
    "from tqdm import tqdm\n",
    "from scipy.spatial.distance import cosine\n",
    "from sklearn.metrics import accuracy_score, precision_score, recall_score, f1_score\n",
    "from nn_models.reid_model import load_reid_model"
   ]
  },
  {
   "cell_type": "code",
   "execution_count": 8,
   "id": "0540295a-e71b-448a-b93f-a69de17c0282",
   "metadata": {
    "tags": []
   },
   "outputs": [],
   "source": [
    "from nn_models.reid_model import ReIDModel, load_reid_model"
   ]
  },
  {
   "cell_type": "code",
   "execution_count": 29,
   "id": "1a332f24-44ce-4621-b886-6ee49a34dba6",
   "metadata": {
    "tags": []
   },
   "outputs": [],
   "source": [
    "def load_ground_truth(gt_file):\n",
    "    \"\"\"\n",
    "    Load ground truth bounding boxes from the specified file.\n",
    "\n",
    "    Args:\n",
    "    gt_file (str): Path to the ground truth file.\n",
    "\n",
    "    Returns:\n",
    "    ground_truth (dict): Dictionary of ground truth bounding boxes per frame.\n",
    "    \"\"\"\n",
    "    ground_truth = {}\n",
    "    with open(gt_file, 'r') as f:\n",
    "        for line in f:\n",
    "            try:\n",
    "                frame_id, track_id, x, y, w, h, _, _, _, _= map(float, line.strip().split(','))\n",
    "            except ValueError:\n",
    "                frame_id, track_id, x, y, w, h, _, _, _= map(float, line.strip().split(','))\n",
    "            frame_id = int(frame_id)\n",
    "            track_id = int(track_id)\n",
    "            if frame_id not in ground_truth:\n",
    "                ground_truth[frame_id] = []\n",
    "            ground_truth[frame_id].append([track_id, x, y, w, h])\n",
    "    return ground_truth\n",
    "\n",
    "def extract_bounding_boxes(image_dir, ground_truth, num_boxes=100):\n",
    "    \"\"\"\n",
    "    Extract bounding boxes from images based on ground truth data.\n",
    "\n",
    "    Args:\n",
    "    image_dir (str): Path to the directory with images.\n",
    "    ground_truth (dict): Dictionary of ground truth bounding boxes per frame.\n",
    "    num_boxes (int): Number of bounding boxes to extract.\n",
    "\n",
    "    Returns:\n",
    "    extracted_images (dict): Dictionary of extracted images per track ID.\n",
    "    \"\"\"\n",
    "    extracted_images = {}\n",
    "    for frame_id, gt_boxes in ground_truth.items():\n",
    "        image_path = os.path.join(image_dir, f'{frame_id:06d}.jpg')\n",
    "        if not os.path.exists(image_path):\n",
    "            continue\n",
    "\n",
    "        image = cv2.imread(image_path)\n",
    "        if image is None:\n",
    "            print(f\"Warning: Image at path {image_path} could not be loaded.\")\n",
    "            continue\n",
    "\n",
    "        for gt_box in gt_boxes:\n",
    "            track_id, x, y, w, h = gt_box\n",
    "            x, y, w, h = int(x), int(y), int(w), int(h)\n",
    "\n",
    "            # Validate bounding box coordinates\n",
    "            if x < 0 or y < 0 or x + w > image.shape[1] or y + h > image.shape[0]:\n",
    "                #print(f\"Warning: Bounding box {x, y, w, h} is out of image bounds {image.shape}. Skipping this bounding box.\")\n",
    "                continue\n",
    "\n",
    "            bbox_img = image[y:y + h, x:x + w]\n",
    "            #cv2.imshow('test', bbox_img)\n",
    "            #cv2.waitKey(0)\n",
    "            if bbox_img.size == 0:\n",
    "                #print(f\"Warning: Bounding box {x, y, w, h} resulted in an empty image. Skipping this bounding box.\")\n",
    "                continue\n",
    "\n",
    "            bbox_img = cv2.cvtColor(bbox_img, cv2.COLOR_BGR2RGB)\n",
    "            bbox_img_pil = Image.fromarray(bbox_img)\n",
    "\n",
    "            if track_id not in extracted_images:\n",
    "                extracted_images[track_id] = []\n",
    "            extracted_images[track_id].append(bbox_img_pil)\n",
    "\n",
    "    # Randomly select num_boxes // 2 bounding boxes with the same ID and num_boxes // 2 with different IDs\n",
    "    random.seed(42)\n",
    "    selected_boxes = []\n",
    "    track_ids = list(extracted_images.keys())\n",
    "\n",
    "    for _ in range(num_boxes // 2):\n",
    "        track_id = random.choice(track_ids)\n",
    "        if len(extracted_images[track_id]) > 1:\n",
    "            selected_boxes.append((random.choice(extracted_images[track_id]), track_id))\n",
    "    \n",
    "    for _ in range(num_boxes // 2):\n",
    "        track_id_1, track_id_2 = random.sample(track_ids, 2)\n",
    "        selected_boxes.append((random.choice(extracted_images[track_id_1]), track_id_2))\n",
    "\n",
    "    return selected_boxes\n",
    "\n",
    "def evaluate_reid_model(image_dir, gt_file, model_type, num_boxes=1000, threshold=0.18):\n",
    "    \"\"\"\n",
    "    Evaluate the Re-ID model on the dataset.\n",
    "\n",
    "    Args:\n",
    "    image_dir (str): Path to the directory with images.\n",
    "    gt_file (str): Path to the ground truth file.\n",
    "    model_type (str): Type of the Re-ID model.\n",
    "    num_boxes (int): Number of bounding boxes to evaluate.\n",
    "    threshold (float): Cosine distance threshold.\n",
    "\n",
    "    Returns:\n",
    "    None\n",
    "    \"\"\"\n",
    "    model = load_reid_model(model_type)\n",
    "    ground_truth = load_ground_truth(gt_file)\n",
    "    selected_boxes = extract_bounding_boxes(image_dir, ground_truth, num_boxes)\n",
    "\n",
    "    features = []\n",
    "    labels = []\n",
    "\n",
    "    for img, track_id in tqdm(selected_boxes):\n",
    "        feature = model.extract_features(img)\n",
    "        features.append(feature)\n",
    "        labels.append(track_id)\n",
    "\n",
    "    y_true = []\n",
    "    y_pred = []\n",
    "\n",
    "    for i in range(0, len(features), 2):\n",
    "        feat1, feat2 = features[i], features[i+1]\n",
    "        label1, label2 = labels[i], labels[i+1]\n",
    "\n",
    "        dist = cosine(feat1.flatten(), feat2.flatten())\n",
    "        is_same = label1 == label2\n",
    "        #print(is_same, dist)\n",
    "        y_true.append(1 if is_same else 0)\n",
    "        y_pred.append(1 if dist < threshold else 0)\n",
    "\n",
    "    accuracy = accuracy_score(y_true, y_pred)\n",
    "    precision = precision_score(y_true, y_pred)\n",
    "    recall = recall_score(y_true, y_pred)\n",
    "    f1 = f1_score(y_true, y_pred)\n",
    "\n",
    "    print(f'Accuracy: {accuracy:.4f}')\n",
    "    print(f'Precision: {precision:.4f}')\n",
    "    print(f'Recall: {recall:.4f}')\n",
    "    print(f'F1 Score: {f1:.4f}')\n",
    "    \n",
    "    return accuracy, precision, recall, f1"
   ]
  },
  {
   "cell_type": "code",
   "execution_count": 30,
   "id": "8bbf08f6-dc01-4bd6-8fc3-f97c117e9b19",
   "metadata": {
    "tags": []
   },
   "outputs": [],
   "source": [
    "MODELS = ['osnet_x1_0', 'osnet_x0_75', 'osnet_x0_5', 'osnet_x0_25']"
   ]
  },
  {
   "cell_type": "code",
   "execution_count": 32,
   "id": "0fb59d2a-4c7e-4aeb-9874-b12a14c7091c",
   "metadata": {
    "tags": []
   },
   "outputs": [
    {
     "name": "stdout",
     "output_type": "stream",
     "text": [
      "evaluating model: osnet_x1_0\n",
      "processing data/evaluation_data/train/MOT16-11/img1 ...\n",
      "***  osnet_x1_0\n",
      "Successfully loaded imagenet pretrained weights from \"/home/dtsarev/.cache/torch/checkpoints/osnet_x1_0_imagenet.pth\"\n"
     ]
    },
    {
     "name": "stderr",
     "output_type": "stream",
     "text": [
      "100%|█████████████████████████████████████████████████████████████████████████████████████████████████████████████████████████████████████████████████████████████████████| 1000/1000 [00:05<00:00, 198.76it/s]\n"
     ]
    },
    {
     "name": "stdout",
     "output_type": "stream",
     "text": [
      "Accuracy: 0.9820\n",
      "Precision: 0.0000\n",
      "Recall: 0.0000\n",
      "F1 Score: 0.0000\n",
      "processing data/evaluation_data/train/TUD-Stadtmitte/img1 ...\n",
      "***  osnet_x1_0\n",
      "Successfully loaded imagenet pretrained weights from \"/home/dtsarev/.cache/torch/checkpoints/osnet_x1_0_imagenet.pth\"\n"
     ]
    },
    {
     "name": "stderr",
     "output_type": "stream",
     "text": [
      "100%|█████████████████████████████████████████████████████████████████████████████████████████████████████████████████████████████████████████████████████████████████████| 1000/1000 [00:04<00:00, 204.28it/s]\n"
     ]
    },
    {
     "name": "stdout",
     "output_type": "stream",
     "text": [
      "Accuracy: 0.8820\n",
      "Precision: 0.4054\n",
      "Recall: 0.2885\n",
      "F1 Score: 0.3371\n",
      "processing data/evaluation_data/train/TUD-Campus/img1 ...\n",
      "***  osnet_x1_0\n",
      "Successfully loaded imagenet pretrained weights from \"/home/dtsarev/.cache/torch/checkpoints/osnet_x1_0_imagenet.pth\"\n"
     ]
    },
    {
     "name": "stderr",
     "output_type": "stream",
     "text": [
      "100%|█████████████████████████████████████████████████████████████████████████████████████████████████████████████████████████████████████████████████████████████████████| 1000/1000 [00:04<00:00, 202.25it/s]\n"
     ]
    },
    {
     "name": "stdout",
     "output_type": "stream",
     "text": [
      "Accuracy: 0.8500\n",
      "Precision: 0.3721\n",
      "Recall: 0.2500\n",
      "F1 Score: 0.2991\n",
      "processing data/evaluation_data/train/MOT16-09/img1 ...\n",
      "***  osnet_x1_0\n",
      "Successfully loaded imagenet pretrained weights from \"/home/dtsarev/.cache/torch/checkpoints/osnet_x1_0_imagenet.pth\"\n"
     ]
    },
    {
     "name": "stderr",
     "output_type": "stream",
     "text": [
      "100%|█████████████████████████████████████████████████████████████████████████████████████████████████████████████████████████████████████████████████████████████████████| 1000/1000 [00:05<00:00, 195.09it/s]\n"
     ]
    },
    {
     "name": "stdout",
     "output_type": "stream",
     "text": [
      "Accuracy: 0.9720\n",
      "Precision: 0.0000\n",
      "Recall: 0.0000\n",
      "F1 Score: 0.0000\n",
      "processing data/evaluation_data/train/KITTI-17/img1 ...\n",
      "***  osnet_x1_0\n",
      "Successfully loaded imagenet pretrained weights from \"/home/dtsarev/.cache/torch/checkpoints/osnet_x1_0_imagenet.pth\"\n"
     ]
    },
    {
     "name": "stderr",
     "output_type": "stream",
     "text": [
      "100%|█████████████████████████████████████████████████████████████████████████████████████████████████████████████████████████████████████████████████████████████████████| 1000/1000 [00:04<00:00, 205.28it/s]\n"
     ]
    },
    {
     "name": "stdout",
     "output_type": "stream",
     "text": [
      "Accuracy: 0.8720\n",
      "Precision: 0.3333\n",
      "Recall: 0.1034\n",
      "F1 Score: 0.1579\n",
      "processing data/evaluation_data/train/PETS09-S2L1/img1 ...\n",
      "***  osnet_x1_0\n",
      "Successfully loaded imagenet pretrained weights from \"/home/dtsarev/.cache/torch/checkpoints/osnet_x1_0_imagenet.pth\"\n"
     ]
    },
    {
     "name": "stderr",
     "output_type": "stream",
     "text": [
      "100%|█████████████████████████████████████████████████████████████████████████████████████████████████████████████████████████████████████████████████████████████████████| 1000/1000 [00:04<00:00, 201.86it/s]\n"
     ]
    },
    {
     "name": "stdout",
     "output_type": "stream",
     "text": [
      "Accuracy: 0.9240\n",
      "Precision: 0.1176\n",
      "Recall: 0.0800\n",
      "F1 Score: 0.0952\n",
      "avg metrics between all videos for osnet_x1_0: [0.91366667 0.20474647 0.1203183  0.14821282]\n",
      "evaluating model: osnet_x0_75\n",
      "processing data/evaluation_data/train/MOT16-11/img1 ...\n",
      "***  osnet_x0_75\n",
      "Successfully loaded imagenet pretrained weights from \"/home/dtsarev/.cache/torch/checkpoints/osnet_x0_75_imagenet.pth\"\n"
     ]
    },
    {
     "name": "stderr",
     "output_type": "stream",
     "text": [
      "100%|█████████████████████████████████████████████████████████████████████████████████████████████████████████████████████████████████████████████████████████████████████| 1000/1000 [00:05<00:00, 196.98it/s]\n"
     ]
    },
    {
     "name": "stdout",
     "output_type": "stream",
     "text": [
      "Accuracy: 0.9840\n",
      "Precision: 0.3333\n",
      "Recall: 0.1429\n",
      "F1 Score: 0.2000\n",
      "processing data/evaluation_data/train/TUD-Stadtmitte/img1 ...\n",
      "***  osnet_x0_75\n",
      "Successfully loaded imagenet pretrained weights from \"/home/dtsarev/.cache/torch/checkpoints/osnet_x0_75_imagenet.pth\"\n"
     ]
    },
    {
     "name": "stderr",
     "output_type": "stream",
     "text": [
      "100%|█████████████████████████████████████████████████████████████████████████████████████████████████████████████████████████████████████████████████████████████████████| 1000/1000 [00:04<00:00, 202.02it/s]\n"
     ]
    },
    {
     "name": "stdout",
     "output_type": "stream",
     "text": [
      "Accuracy: 0.8400\n",
      "Precision: 0.2742\n",
      "Recall: 0.3269\n",
      "F1 Score: 0.2982\n",
      "processing data/evaluation_data/train/TUD-Campus/img1 ...\n",
      "***  osnet_x0_75\n",
      "Successfully loaded imagenet pretrained weights from \"/home/dtsarev/.cache/torch/checkpoints/osnet_x0_75_imagenet.pth\"\n"
     ]
    },
    {
     "name": "stderr",
     "output_type": "stream",
     "text": [
      "100%|█████████████████████████████████████████████████████████████████████████████████████████████████████████████████████████████████████████████████████████████████████| 1000/1000 [00:04<00:00, 202.31it/s]\n"
     ]
    },
    {
     "name": "stdout",
     "output_type": "stream",
     "text": [
      "Accuracy: 0.8300\n",
      "Precision: 0.3433\n",
      "Recall: 0.3594\n",
      "F1 Score: 0.3511\n",
      "processing data/evaluation_data/train/MOT16-09/img1 ...\n",
      "***  osnet_x0_75\n",
      "Successfully loaded imagenet pretrained weights from \"/home/dtsarev/.cache/torch/checkpoints/osnet_x0_75_imagenet.pth\"\n"
     ]
    },
    {
     "name": "stderr",
     "output_type": "stream",
     "text": [
      "100%|█████████████████████████████████████████████████████████████████████████████████████████████████████████████████████████████████████████████████████████████████████| 1000/1000 [00:05<00:00, 196.71it/s]\n"
     ]
    },
    {
     "name": "stdout",
     "output_type": "stream",
     "text": [
      "Accuracy: 0.9700\n",
      "Precision: 0.2000\n",
      "Recall: 0.0833\n",
      "F1 Score: 0.1176\n",
      "processing data/evaluation_data/train/KITTI-17/img1 ...\n",
      "***  osnet_x0_75\n",
      "Successfully loaded imagenet pretrained weights from \"/home/dtsarev/.cache/torch/checkpoints/osnet_x0_75_imagenet.pth\"\n"
     ]
    },
    {
     "name": "stderr",
     "output_type": "stream",
     "text": [
      "100%|█████████████████████████████████████████████████████████████████████████████████████████████████████████████████████████████████████████████████████████████████████| 1000/1000 [00:04<00:00, 201.71it/s]\n"
     ]
    },
    {
     "name": "stdout",
     "output_type": "stream",
     "text": [
      "Accuracy: 0.8780\n",
      "Precision: 0.4000\n",
      "Recall: 0.1034\n",
      "F1 Score: 0.1644\n",
      "processing data/evaluation_data/train/PETS09-S2L1/img1 ...\n",
      "***  osnet_x0_75\n",
      "Successfully loaded imagenet pretrained weights from \"/home/dtsarev/.cache/torch/checkpoints/osnet_x0_75_imagenet.pth\"\n"
     ]
    },
    {
     "name": "stderr",
     "output_type": "stream",
     "text": [
      "100%|█████████████████████████████████████████████████████████████████████████████████████████████████████████████████████████████████████████████████████████████████████| 1000/1000 [00:05<00:00, 198.28it/s]\n"
     ]
    },
    {
     "name": "stdout",
     "output_type": "stream",
     "text": [
      "Accuracy: 0.9160\n",
      "Precision: 0.0526\n",
      "Recall: 0.0400\n",
      "F1 Score: 0.0455\n",
      "avg metrics between all videos for osnet_x0_75: [0.903      0.26724034 0.17598947 0.19614597]\n",
      "evaluating model: osnet_x0_5\n",
      "processing data/evaluation_data/train/MOT16-11/img1 ...\n",
      "***  osnet_x0_5\n",
      "Successfully loaded imagenet pretrained weights from \"/home/dtsarev/.cache/torch/checkpoints/osnet_x0_5_imagenet.pth\"\n"
     ]
    },
    {
     "name": "stderr",
     "output_type": "stream",
     "text": [
      "100%|█████████████████████████████████████████████████████████████████████████████████████████████████████████████████████████████████████████████████████████████████████| 1000/1000 [00:05<00:00, 191.42it/s]\n"
     ]
    },
    {
     "name": "stdout",
     "output_type": "stream",
     "text": [
      "Accuracy: 0.9840\n",
      "Precision: 0.3333\n",
      "Recall: 0.1429\n",
      "F1 Score: 0.2000\n",
      "processing data/evaluation_data/train/TUD-Stadtmitte/img1 ...\n",
      "***  osnet_x0_5\n",
      "Successfully loaded imagenet pretrained weights from \"/home/dtsarev/.cache/torch/checkpoints/osnet_x0_5_imagenet.pth\"\n"
     ]
    },
    {
     "name": "stderr",
     "output_type": "stream",
     "text": [
      "100%|█████████████████████████████████████████████████████████████████████████████████████████████████████████████████████████████████████████████████████████████████████| 1000/1000 [00:04<00:00, 202.03it/s]\n"
     ]
    },
    {
     "name": "stdout",
     "output_type": "stream",
     "text": [
      "Accuracy: 0.8520\n",
      "Precision: 0.3103\n",
      "Recall: 0.3462\n",
      "F1 Score: 0.3273\n",
      "processing data/evaluation_data/train/TUD-Campus/img1 ...\n",
      "***  osnet_x0_5\n",
      "Successfully loaded imagenet pretrained weights from \"/home/dtsarev/.cache/torch/checkpoints/osnet_x0_5_imagenet.pth\"\n"
     ]
    },
    {
     "name": "stderr",
     "output_type": "stream",
     "text": [
      "100%|█████████████████████████████████████████████████████████████████████████████████████████████████████████████████████████████████████████████████████████████████████| 1000/1000 [00:05<00:00, 198.70it/s]\n"
     ]
    },
    {
     "name": "stdout",
     "output_type": "stream",
     "text": [
      "Accuracy: 0.8140\n",
      "Precision: 0.2836\n",
      "Recall: 0.2969\n",
      "F1 Score: 0.2901\n",
      "processing data/evaluation_data/train/MOT16-09/img1 ...\n",
      "***  osnet_x0_5\n",
      "Successfully loaded imagenet pretrained weights from \"/home/dtsarev/.cache/torch/checkpoints/osnet_x0_5_imagenet.pth\"\n"
     ]
    },
    {
     "name": "stderr",
     "output_type": "stream",
     "text": [
      "100%|█████████████████████████████████████████████████████████████████████████████████████████████████████████████████████████████████████████████████████████████████████| 1000/1000 [00:05<00:00, 186.08it/s]\n"
     ]
    },
    {
     "name": "stdout",
     "output_type": "stream",
     "text": [
      "Accuracy: 0.9600\n",
      "Precision: 0.1000\n",
      "Recall: 0.0833\n",
      "F1 Score: 0.0909\n",
      "processing data/evaluation_data/train/KITTI-17/img1 ...\n",
      "***  osnet_x0_5\n",
      "Successfully loaded imagenet pretrained weights from \"/home/dtsarev/.cache/torch/checkpoints/osnet_x0_5_imagenet.pth\"\n"
     ]
    },
    {
     "name": "stderr",
     "output_type": "stream",
     "text": [
      "100%|█████████████████████████████████████████████████████████████████████████████████████████████████████████████████████████████████████████████████████████████████████| 1000/1000 [00:06<00:00, 158.81it/s]\n"
     ]
    },
    {
     "name": "stdout",
     "output_type": "stream",
     "text": [
      "Accuracy: 0.8740\n",
      "Precision: 0.3913\n",
      "Recall: 0.1552\n",
      "F1 Score: 0.2222\n",
      "processing data/evaluation_data/train/PETS09-S2L1/img1 ...\n",
      "***  osnet_x0_5\n",
      "Successfully loaded imagenet pretrained weights from \"/home/dtsarev/.cache/torch/checkpoints/osnet_x0_5_imagenet.pth\"\n"
     ]
    },
    {
     "name": "stderr",
     "output_type": "stream",
     "text": [
      "100%|█████████████████████████████████████████████████████████████████████████████████████████████████████████████████████████████████████████████████████████████████████| 1000/1000 [00:06<00:00, 151.08it/s]\n"
     ]
    },
    {
     "name": "stdout",
     "output_type": "stream",
     "text": [
      "Accuracy: 0.9100\n",
      "Precision: 0.1154\n",
      "Recall: 0.1200\n",
      "F1 Score: 0.1176\n",
      "avg metrics between all videos for osnet_x0_5: [0.899      0.2556582  0.19073196 0.20802124]\n",
      "evaluating model: osnet_x0_25\n",
      "processing data/evaluation_data/train/MOT16-11/img1 ...\n",
      "***  osnet_x0_25\n",
      "Successfully loaded imagenet pretrained weights from \"/home/dtsarev/.cache/torch/checkpoints/osnet_x0_25_imagenet.pth\"\n"
     ]
    },
    {
     "name": "stderr",
     "output_type": "stream",
     "text": [
      "100%|█████████████████████████████████████████████████████████████████████████████████████████████████████████████████████████████████████████████████████████████████████| 1000/1000 [00:05<00:00, 199.01it/s]\n"
     ]
    },
    {
     "name": "stdout",
     "output_type": "stream",
     "text": [
      "Accuracy: 0.9860\n",
      "Precision: 0.5000\n",
      "Recall: 0.2857\n",
      "F1 Score: 0.3636\n",
      "processing data/evaluation_data/train/TUD-Stadtmitte/img1 ...\n",
      "***  osnet_x0_25\n",
      "Successfully loaded imagenet pretrained weights from \"/home/dtsarev/.cache/torch/checkpoints/osnet_x0_25_imagenet.pth\"\n"
     ]
    },
    {
     "name": "stderr",
     "output_type": "stream",
     "text": [
      "100%|█████████████████████████████████████████████████████████████████████████████████████████████████████████████████████████████████████████████████████████████████████| 1000/1000 [00:04<00:00, 211.57it/s]\n"
     ]
    },
    {
     "name": "stdout",
     "output_type": "stream",
     "text": [
      "Accuracy: 0.8780\n",
      "Precision: 0.3846\n",
      "Recall: 0.2885\n",
      "F1 Score: 0.3297\n",
      "processing data/evaluation_data/train/TUD-Campus/img1 ...\n",
      "***  osnet_x0_25\n",
      "Successfully loaded imagenet pretrained weights from \"/home/dtsarev/.cache/torch/checkpoints/osnet_x0_25_imagenet.pth\"\n"
     ]
    },
    {
     "name": "stderr",
     "output_type": "stream",
     "text": [
      "100%|█████████████████████████████████████████████████████████████████████████████████████████████████████████████████████████████████████████████████████████████████████| 1000/1000 [00:04<00:00, 205.71it/s]\n"
     ]
    },
    {
     "name": "stdout",
     "output_type": "stream",
     "text": [
      "Accuracy: 0.7480\n",
      "Precision: 0.1900\n",
      "Recall: 0.2969\n",
      "F1 Score: 0.2317\n",
      "processing data/evaluation_data/train/MOT16-09/img1 ...\n",
      "***  osnet_x0_25\n",
      "Successfully loaded imagenet pretrained weights from \"/home/dtsarev/.cache/torch/checkpoints/osnet_x0_25_imagenet.pth\"\n"
     ]
    },
    {
     "name": "stderr",
     "output_type": "stream",
     "text": [
      "100%|█████████████████████████████████████████████████████████████████████████████████████████████████████████████████████████████████████████████████████████████████████| 1000/1000 [00:04<00:00, 203.59it/s]\n"
     ]
    },
    {
     "name": "stdout",
     "output_type": "stream",
     "text": [
      "Accuracy: 0.9660\n",
      "Precision: 0.1429\n",
      "Recall: 0.0833\n",
      "F1 Score: 0.1053\n",
      "processing data/evaluation_data/train/KITTI-17/img1 ...\n",
      "***  osnet_x0_25\n",
      "Successfully loaded imagenet pretrained weights from \"/home/dtsarev/.cache/torch/checkpoints/osnet_x0_25_imagenet.pth\"\n"
     ]
    },
    {
     "name": "stderr",
     "output_type": "stream",
     "text": [
      "100%|█████████████████████████████████████████████████████████████████████████████████████████████████████████████████████████████████████████████████████████████████████| 1000/1000 [00:04<00:00, 210.59it/s]\n"
     ]
    },
    {
     "name": "stdout",
     "output_type": "stream",
     "text": [
      "Accuracy: 0.8540\n",
      "Precision: 0.2222\n",
      "Recall: 0.1034\n",
      "F1 Score: 0.1412\n",
      "processing data/evaluation_data/train/PETS09-S2L1/img1 ...\n",
      "***  osnet_x0_25\n",
      "Successfully loaded imagenet pretrained weights from \"/home/dtsarev/.cache/torch/checkpoints/osnet_x0_25_imagenet.pth\"\n"
     ]
    },
    {
     "name": "stderr",
     "output_type": "stream",
     "text": [
      "100%|█████████████████████████████████████████████████████████████████████████████████████████████████████████████████████████████████████████████████████████████████████| 1000/1000 [00:04<00:00, 210.96it/s]\n"
     ]
    },
    {
     "name": "stdout",
     "output_type": "stream",
     "text": [
      "Accuracy: 0.9300\n",
      "Precision: 0.1429\n",
      "Recall: 0.0800\n",
      "F1 Score: 0.1026\n",
      "avg metrics between all videos for osnet_x0_25: [0.89366667 0.26375865 0.18963874 0.21233629]\n"
     ]
    }
   ],
   "source": [
    "for model in MODELS:\n",
    "    print(f'evaluating model: {model}')\n",
    "    model_metrics = []\n",
    "    for data, gt in zip(IMAGE_DIRS, GT_DATA):\n",
    "        print(f'processing {data} ...')\n",
    "        metrics = evaluate_reid_model(data, gt, model)\n",
    "        model_metrics.append(metrics)\n",
    "    print(f'avg metrics between all videos for {model}: {np.mean(model_metrics, axis=0)}')"
   ]
  },
  {
   "cell_type": "markdown",
   "id": "ca6fab18-26e3-455f-a81d-e0cf61e81461",
   "metadata": {},
   "source": [
    "Как можно видеть, на основании F1 score, osnet_x0_25 подходит лучше всего. "
   ]
  },
  {
   "cell_type": "code",
   "execution_count": null,
   "id": "30f2c99c-feda-4244-b383-36e27599bda0",
   "metadata": {},
   "outputs": [],
   "source": []
  }
 ],
 "metadata": {
  "kernelspec": {
   "display_name": "Python 3 (ipykernel)",
   "language": "python",
   "name": "python3"
  },
  "language_info": {
   "codemirror_mode": {
    "name": "ipython",
    "version": 3
   },
   "file_extension": ".py",
   "mimetype": "text/x-python",
   "name": "python",
   "nbconvert_exporter": "python",
   "pygments_lexer": "ipython3",
   "version": "3.11.4"
  }
 },
 "nbformat": 4,
 "nbformat_minor": 5
}
